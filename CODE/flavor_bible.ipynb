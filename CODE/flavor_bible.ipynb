{
 "cells": [
  {
   "cell_type": "code",
   "execution_count": 1,
   "metadata": {},
   "outputs": [],
   "source": [
    "import pandas as pd\n",
    "import os.path\n",
    "\n",
    "root_path = os.path.dirname(os.getcwd())\n",
    "text_raw = open(os.path.join(root_path, \"DATA/list.txt\"), \"r\").read()\n",
    "text = '\\n\\n\\n\\n\\n\\n' + text_raw"
   ]
  },
  {
   "cell_type": "code",
   "execution_count": 2,
   "metadata": {},
   "outputs": [],
   "source": [
    "sorta_sections = text.split('\\n\\n\\n\\n\\n\\n')[1:] # first item is empty\n",
    "sorta_titles = [sorta_section.strip().split('\\n\\n\\n')[0] for sorta_section in sorta_sections] # all titles should be followed by three \\n's\n",
    "\n",
    "# examine whether substring ending with either '(' or ',' is upper case\n",
    "import re\n",
    "titles = [sorta_title for sorta_title in sorta_titles if re.split('\\(|,|and', sorta_title)[0].isupper()]"
   ]
  },
  {
   "cell_type": "code",
   "execution_count": 3,
   "metadata": {},
   "outputs": [],
   "source": [
    "section_starts = []\n",
    "for title in titles:\n",
    "    section_start = text.find('\\n\\n\\n\\n\\n\\n'+title+'\\n\\n\\n')\n",
    "    section_starts.append(section_start)"
   ]
  },
  {
   "cell_type": "code",
   "execution_count": 4,
   "metadata": {},
   "outputs": [],
   "source": [
    "sections = []\n",
    "\n",
    "# for index, section_start in zip(range(len(section_starts)), section_starts[:-1]):\n",
    "for index, section_start in enumerate(section_starts[:-1]):\n",
    "    section = text[section_start:section_starts[index+1]].strip()\n",
    "    sections.append(section)\n",
    "sections.append(text[section_starts[-1]:].strip())"
   ]
  },
  {
   "cell_type": "code",
   "execution_count": 5,
   "metadata": {},
   "outputs": [],
   "source": [
    "def extract_subsections_data(section):\n",
    "    data = pd.Series([])\n",
    "    \n",
    "    # sidebars can screw things up\n",
    "    if '(See sidebar.)' in section:\n",
    "        section = section[:section.find('(See sidebar.)')].strip()\n",
    "\n",
    "    title = section.split('\\n\\n\\n')[0].strip()\n",
    "    data['name'] = title\n",
    "    section = section[len(title):].strip()\n",
    "    \n",
    "    subsections = section.split('\\n\\n\\n\\n')\n",
    "    subsections = [subsection.strip() for subsection in subsections]\n",
    "    \n",
    "    for subsection in subsections:      \n",
    "        if subsection: # accounting for blank subsections, which I think exist?\n",
    "            if subsection.startswith('['):\n",
    "                data['phonetic'] = subsection\n",
    "            elif subsection.startswith('Season'):\n",
    "                data['season'] = subsection\n",
    "            elif subsection.startswith('Flavor') and not subsection.startswith('Flavor Affinities'):\n",
    "                data['flavor'] = subsection\n",
    "            elif subsection.startswith('Volume'):\n",
    "                data['volume'] = subsection\n",
    "            elif subsection.startswith('Techniques'):\n",
    "                data['techniques'] = subsection\n",
    "            elif subsection.startswith('Nutritional profile'):\n",
    "                data['nutritional_profile'] = subsection\n",
    "            elif subsection.startswith('Calories'):\n",
    "                data['calories'] = subsection\n",
    "            elif subsection.startswith('Protein'):\n",
    "                data['protein'] = subsection\n",
    "            elif subsection.startswith('Tip'):\n",
    "                data['tip'] = subsection\n",
    "            elif subsection.startswith('Vegan Tip'):\n",
    "                data['vegan_tip'] = subsection\n",
    "            elif subsection.startswith('Vegan substitute'):\n",
    "                data['vegan_substitutes'] = subsection\n",
    "            elif subsection.startswith('Vegan Brand'):\n",
    "                data['vegan_brands'] = subsection\n",
    "            elif subsection.startswith('Possible Substitute') or subsection.startswith('Possible substitute'): # both appear\n",
    "                data['possible_substitutes'] = subsection\n",
    "            elif subsection.startswith('Brand'): # was picking up \"Brandy\" in subsection\n",
    "                data['brands'] = subsection\n",
    "            elif subsection.startswith('Botanical relatives'):\n",
    "                data['botanical_relatives'] = subsection\n",
    "            elif subsection.startswith('Flavor Affinities'):\n",
    "                data['flavor_affinities'] = subsection\n",
    "            elif subsection.startswith('What they are'):\n",
    "                data['what_they_are'] = subsection\n",
    "    \n",
    "    section_remainder = section\n",
    "    \n",
    "    # assuming 'Dishes' is last\n",
    "    if 'Dishes' in section_remainder:\n",
    "        dishes_start = section_remainder.find('Dishes')\n",
    "        data['dishes'] = section[dishes_start:].strip()\n",
    "        section_remainder = section_remainder[:dishes_start].strip() # removed to reveal pairs_with\n",
    "    \n",
    "    # removed to reveal pairs_with\n",
    "    if 'Flavor Affinities' in section_remainder:\n",
    "        section_remainder = section_remainder[:section_remainder.find('Flavor Affinities')].strip()\n",
    "                \n",
    "    subsections_remainder = section_remainder.split('\\n\\n\\n')\n",
    "    subsections_remainder = [subsection.strip() for subsection in subsections_remainder]\n",
    "    \n",
    "    \n",
    "    for subsection in subsections_remainder:\n",
    "        if '\\n\\n' in subsection and subsection[0] not in ['\"', '“']: # check for single spaced line and not quote\n",
    "            data['pairs_with'] = subsection\n",
    "            break\n",
    "        \n",
    "    return data"
   ]
  },
  {
   "cell_type": "code",
   "execution_count": 6,
   "metadata": {},
   "outputs": [],
   "source": [
    "subsections_data = pd.Series(sections).apply(extract_subsections_data)\n",
    "subsections_data.replace(float('nan'), '', inplace=True)"
   ]
  },
  {
   "cell_type": "code",
   "execution_count": 7,
   "metadata": {},
   "outputs": [],
   "source": [
    "# subsections_data.to_csv(os.path.join(root_path, 'DATA/subsections_data_raw.csv'), index=False, header=None)"
   ]
  },
  {
   "cell_type": "code",
   "execution_count": 8,
   "metadata": {},
   "outputs": [],
   "source": [
    "# subsections_data.to_csv(os.path.join(root_path, 'DATA/subsection_data_header.csv'), index=False)"
   ]
  },
  {
   "cell_type": "code",
   "execution_count": 9,
   "metadata": {},
   "outputs": [],
   "source": [
    "# very quiet\n",
    "# very quiet--quiet\n",
    "# quieter\n",
    "# quiet\n",
    "# quiet/moderate\n",
    "# quiet--moderate\n",
    "# moderate\n",
    "# moderate/loud\n",
    "# moderate--loud\n",
    "# moderate--extremely_loud\n",
    "# loud\n",
    "# louder\n",
    "# very loud\n",
    "# extremely loud\n",
    "# quiet        \n",
    "\n",
    "def extract_flavor_data(row):\n",
    "    data = row\n",
    "    flavor_tokens = [token.strip().lower() for token in re.split('\\(|\\)|,|\\s|\\/|\\.|–|-|;', row['flavor']) if token.strip() != '']\n",
    "    volume_tokens = [token.strip().lower() for token in re.split('\\(|\\)|,|\\s|\\/|\\.|–|-|;', row['volume']) if token.strip() != '']\n",
    "    \n",
    "    if 'sweet' in flavor_tokens:\n",
    "        if 'loud' in volume_tokens or 'louder' in volume_tokens:\n",
    "            data['sweet'] = 'Y'\n",
    "        else:\n",
    "            data['sweet'] = 'y'\n",
    "\n",
    "    if 'sour' in flavor_tokens:\n",
    "        if 'loud' in volume_tokens or 'louder' in volume_tokens:\n",
    "            data['sour'] = 'Y'\n",
    "        else:\n",
    "            data['sour'] = 'y'\n",
    "\n",
    "    if 'salty' in flavor_tokens:\n",
    "        if 'loud' in volume_tokens or 'louder' in volume_tokens:\n",
    "            data['salty'] = 'Y'\n",
    "        else:\n",
    "            data['salty'] = 'y'\n",
    "\n",
    "    if 'bitter' in flavor_tokens:\n",
    "        if 'loud' in volume_tokens or 'louder' in volume_tokens:\n",
    "            data['bitter'] = 'Y'\n",
    "        else:\n",
    "            data['bitter'] = 'y'\n",
    "\n",
    "    if 'savory' in flavor_tokens or 'umami' in flavor_tokens:\n",
    "        if 'loud' in volume_tokens or 'louder' in volume_tokens:\n",
    "            data['savory'] = 'Y'\n",
    "        else:\n",
    "            data['savory'] = 'y'\n",
    "\n",
    "    if 'spicy' in flavor_tokens or 'hot' in flavor_tokens:\n",
    "        if 'loud' in volume_tokens or 'louder' in volume_tokens:\n",
    "            data['spicy'] = 'Y'\n",
    "        else:\n",
    "            data['spicy'] = 'y'\n",
    "    \n",
    "    return data\n",
    "\n",
    "ingredients_data = subsections_data.apply(extract_flavor_data, axis=1)\n",
    "ingredients_data.replace(float('nan'), '', inplace=True)"
   ]
  },
  {
   "cell_type": "code",
   "execution_count": 11,
   "metadata": {},
   "outputs": [],
   "source": [
    "ingredients_data.to_csv(os.path.join(root_path, 'DATA/ingredients_data_unedited.csv'), index=False)"
   ]
  },
  {
   "cell_type": "code",
   "execution_count": null,
   "metadata": {},
   "outputs": [],
   "source": []
  }
 ],
 "metadata": {
  "kernelspec": {
   "display_name": "Python 3",
   "language": "python",
   "name": "python3"
  },
  "language_info": {
   "codemirror_mode": {
    "name": "ipython",
    "version": 3
   },
   "file_extension": ".py",
   "mimetype": "text/x-python",
   "name": "python",
   "nbconvert_exporter": "python",
   "pygments_lexer": "ipython3",
   "version": "3.7.0"
  }
 },
 "nbformat": 4,
 "nbformat_minor": 2
}
