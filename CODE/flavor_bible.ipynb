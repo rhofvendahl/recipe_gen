{
 "cells": [
  {
   "cell_type": "code",
   "execution_count": 1,
   "metadata": {},
   "outputs": [],
   "source": [
    "import pandas as pd\n",
    "import os.path\n",
    "\n",
    "root_path = os.path.dirname(os.getcwd())\n",
    "text_raw = open(os.path.join(root_path, \"DATA/list.txt\"), \"r\").read()\n",
    "text = '\\n\\n\\n\\n\\n\\n' + text_raw"
   ]
  },
  {
   "cell_type": "code",
   "execution_count": 18,
   "metadata": {},
   "outputs": [],
   "source": [
    "sorta_sections = text.split('\\n\\n\\n\\n\\n\\n')[1:] # first item is empty\n",
    "# sorta_titles_old = [sorta_section.strip().split('\\n')[0] for sorta_section in sorta_sections] # all titles should be followed by three \\n's\n",
    "sorta_titles = [sorta_section.strip().split('\\n\\n\\n')[0] for sorta_section in sorta_sections] # all titles should be followed by three \\n's\n",
    "\n",
    "# examine whether substring ending with either '(' or ',' is upper case\n",
    "import re\n",
    "# old_titles = [sorta_title for sorta_title in sorta_titles_old if re.split('\\(|,', sorta_title)[0].isupper()]\n",
    "titles = [sorta_title for sorta_title in sorta_titles if re.split('\\(|,|and', sorta_title)[0].isupper()]\n",
    "# new_titles = list(set(full_titles) - set(old_titles))\n",
    "# titles = []\n",
    "# for full_title in full_titles:\n",
    "#     if full_title not in set(old_titles):\n",
    "#         print(full_title)\n",
    "#         titles.append(full_title)\n",
    "# removed_titles = []\n",
    "# for old_title in old_titles:\n",
    "#     if old_title not in full_titles:\n",
    "#         removed_titles.append(old_title)"
   ]
  },
  {
   "cell_type": "code",
   "execution_count": 5,
   "metadata": {},
   "outputs": [],
   "source": [
    "section_starts = []\n",
    "for title in titles:\n",
    "    # how many newlines? I remember a catch..\n",
    "    section_start = text.find('\\n\\n\\n\\n\\n\\n'+title+'\\n\\n\\n')\n",
    "    section_starts.append(section_start)"
   ]
  },
  {
   "cell_type": "code",
   "execution_count": 6,
   "metadata": {},
   "outputs": [],
   "source": [
    "sections = []\n",
    "\n",
    "# for index, section_start in zip(range(len(section_starts)), section_starts[:-1]):\n",
    "for index, section_start in enumerate(section_starts[:-1]):\n",
    "    section = text[section_start:section_starts[index+1]].strip()\n",
    "    sections.append(section)\n",
    "sections.append(text[section_starts[-1]:].strip())"
   ]
  },
  {
   "cell_type": "code",
   "execution_count": 9,
   "metadata": {},
   "outputs": [],
   "source": [
    "def extract_subsections_data(section):\n",
    "    data = pd.Series([])\n",
    "    \n",
    "    # sidebars can screw things up\n",
    "    if '(See sidebar.)' in section:\n",
    "        section = section[:section.find('(See sidebar.)')].strip()\n",
    "\n",
    "    title = section.split('\\n\\n\\n')[0].strip()\n",
    "    data['name'] = title\n",
    "    section = section[len(title):].strip()\n",
    "    \n",
    "    subsections = section.split('\\n\\n\\n\\n')\n",
    "    subsections = [subsection.strip() for subsection in subsections]\n",
    "    \n",
    "#     if subsections and subsections[0] and subsections[0][0] == '[':\n",
    "#         data['phonetic'] = subsections[0]\n",
    "#         subsections = subsections[1:]\n",
    "    # could be blank subsection after\n",
    "    \n",
    "#     if subsections:\n",
    "#         for index, subsection in zip(range(len(subsections)), subsections):\n",
    "    for subsection in subsections:      \n",
    "        if subsection: # accounting for blank subsections, which I think exist?\n",
    "#             if subsection[0] == '[':\n",
    "#                 data['phonetic'] = subsection\n",
    "#             elif 'Season' in subsection:\n",
    "#                 data['season'] = subsection\n",
    "#             elif 'Flavor' in subsection:\n",
    "#                 data['flavor'] = subsection\n",
    "#             elif 'Volume' in subsection:\n",
    "#                 data['volume'] = subsection\n",
    "#             elif 'Techniques' in subsection:\n",
    "#                 data['techniques'] = subsection\n",
    "#             elif 'Nutritional profile' in subsection:\n",
    "#                 data['nutritional_profile'] = subsection\n",
    "#             elif 'Calories' in subsection:\n",
    "#                 data['Calories'] = subsection\n",
    "#             elif 'Protein' in subsection:\n",
    "#                 data['protein'] = subsection\n",
    "#             elif 'Tip' in subsection:\n",
    "#                 data['tip'] = subsection\n",
    "#             elif 'Vegan Tip' in subsection:\n",
    "#                 data['vegan_tip'] = subsection\n",
    "#             elif 'Vegan substitute' in subsection:\n",
    "#                 data['vegan_substitutes'] = subsection\n",
    "#             elif 'Vegan Brand' in subsection:\n",
    "#                 data['vegan_brands'] = subsection\n",
    "#             elif 'Possible Substitute' in subsection or 'Possible substitute' in subsection: # both appear\n",
    "#                 data['possible_substitutes'] = subsection\n",
    "#             elif subsection[:5] == 'Brand': # was picking up \"Brandy\" in subsection\n",
    "#                 data['brands'] = subsection\n",
    "#             elif 'Botanical relatives' in subsection:\n",
    "#                 data['botanical_relatives'] = subsection\n",
    "#             elif 'Flavor Affinities' in subsection:\n",
    "#                 data['flavor_affinities'] = subsection\n",
    "#             elif 'What they are' in subsection:\n",
    "#                 data['what_they_are'] = subsection\n",
    "            if subsection.startswith('['):\n",
    "                data['phonetic'] = subsection\n",
    "            elif subsection.startswith('Season'):\n",
    "                data['season'] = subsection\n",
    "            elif subsection.startswith('Flavor') and not subsection.startswith('Flavor Affinities'):\n",
    "                data['flavor'] = subsection\n",
    "            elif subsection.startswith('Volume'):\n",
    "                data['volume'] = subsection\n",
    "            elif subsection.startswith('Techniques'):\n",
    "                data['techniques'] = subsection\n",
    "            elif subsection.startswith('Nutritional profile'):\n",
    "                data['nutritional_profile'] = subsection\n",
    "            elif subsection.startswith('Calories'):\n",
    "                data['calories'] = subsection\n",
    "            elif subsection.startswith('Protein'):\n",
    "                data['protein'] = subsection\n",
    "            elif subsection.startswith('Tip'):\n",
    "                data['tip'] = subsection\n",
    "            elif subsection.startswith('Vegan Tip'):\n",
    "                data['vegan_tip'] = subsection\n",
    "            elif subsection.startswith('Vegan substitute'):\n",
    "                data['vegan_substitutes'] = subsection\n",
    "            elif subsection.startswith('Vegan Brand'):\n",
    "                data['vegan_brands'] = subsection\n",
    "            elif subsection.startswith('Possible Substitute') or subsection.startswith('Possible substitute'): # both appear\n",
    "                data['possible_substitutes'] = subsection\n",
    "            elif subsection.startswith('Brand'): # was picking up \"Brandy\" in subsection\n",
    "                data['brands'] = subsection\n",
    "            elif subsection.startswith('Botanical relatives'):\n",
    "                data['botanical_relatives'] = subsection\n",
    "            elif subsection.startswith('Flavor Affinities'):\n",
    "                data['flavor_affinities'] = subsection\n",
    "            elif subsection.startswith('What they are'):\n",
    "                data['what_they_are'] = subsection\n",
    "            # checks if subsection consists of one or more single spaced lines\n",
    "#             elif '\\n\\n' in subsection and not '\\n\\n\\n' in subsection:\n",
    "#                 data['pairs_with'] = subsection\n",
    "    \n",
    "    section_remainder = section\n",
    "    \n",
    "    # assuming 'Dishes' is last\n",
    "    if 'Dishes' in section_remainder:\n",
    "        dishes_start = section_remainder.find('Dishes')\n",
    "        data['dishes'] = section[dishes_start:].strip()\n",
    "        section_remainder = section_remainder[:dishes_start].strip() # removed to reveal pairs_with\n",
    "    \n",
    "    # removed to reveal pairs_with\n",
    "    if 'Flavor Affinities' in section_remainder:\n",
    "        section_remainder = section_remainder[:section_remainder.find('Flavor Affinities')].strip()\n",
    "            \n",
    "    # assumes pairs_with is always present, and followed only by dishes and/or flavor affinities\n",
    "    # PROBLEM: sometimes quotes appear after pairs_with\n",
    "#     data['pairs_with'] = section_remainder.split('\\n\\n\\n')[-1].strip()\n",
    "    \n",
    "    subsections_remainder = section_remainder.split('\\n\\n\\n')\n",
    "    subsections_remainder = [subsection.strip() for subsection in subsections_remainder]\n",
    "    \n",
    "    \n",
    "    for subsection in subsections_remainder:\n",
    "        if '\\n\\n' in subsection and subsection[0] not in ['\"', '“']: # check for single spaced line and not quote\n",
    "            data['pairs_with'] = subsection\n",
    "            break\n",
    "        \n",
    "        \n",
    "#     i = 0;\n",
    "#     for subsection in subsections:\n",
    "#         data[str(i)] = subsection\n",
    "#         i += 1\n",
    "    return data"
   ]
  },
  {
   "cell_type": "code",
   "execution_count": 10,
   "metadata": {},
   "outputs": [],
   "source": [
    "subsections_data = pd.Series(sections).apply(extract_subsections_data)"
   ]
  },
  {
   "cell_type": "code",
   "execution_count": 14,
   "metadata": {},
   "outputs": [],
   "source": [
    "# subsections_data.to_csv(os.path.join(root_path, 'DATA/subsections_data_raw.csv'), index=False, header=None)"
   ]
  },
  {
   "cell_type": "code",
   "execution_count": 15,
   "metadata": {},
   "outputs": [],
   "source": [
    "subsections_data.to_csv(os.path.join(root_path, 'DATA/subsection_data_header.csv'), index=False)"
   ]
  },
  {
   "cell_type": "code",
   "execution_count": 16,
   "metadata": {},
   "outputs": [
    {
     "data": {
      "text/plain": [
       "822"
      ]
     },
     "execution_count": 16,
     "metadata": {},
     "output_type": "execute_result"
    }
   ],
   "source": [
    "len(subsections_data['ingredient'])"
   ]
  },
  {
   "cell_type": "code",
   "execution_count": null,
   "metadata": {},
   "outputs": [],
   "source": []
  }
 ],
 "metadata": {
  "kernelspec": {
   "display_name": "Python 3",
   "language": "python",
   "name": "python3"
  },
  "language_info": {
   "codemirror_mode": {
    "name": "ipython",
    "version": 3
   },
   "file_extension": ".py",
   "mimetype": "text/x-python",
   "name": "python",
   "nbconvert_exporter": "python",
   "pygments_lexer": "ipython3",
   "version": "3.7.0"
  }
 },
 "nbformat": 4,
 "nbformat_minor": 2
}
